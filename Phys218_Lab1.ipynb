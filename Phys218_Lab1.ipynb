{
 "cells": [
  {
   "cell_type": "code",
   "execution_count": 37,
   "metadata": {},
   "outputs": [],
   "source": [
    "import numpy as np"
   ]
  },
  {
   "attachments": {},
   "cell_type": "markdown",
   "metadata": {},
   "source": [
    "ΔL=αLΔT \n",
    "\n",
    "α = ΔL/LΔT \n",
    "α = ΔL/(L(Tf-Ti))"
   ]
  },
  {
   "cell_type": "code",
   "execution_count": 38,
   "metadata": {},
   "outputs": [],
   "source": [
    "def alpha (dl,l,tf,ti):\n",
    "    a= dl/(l*(tf-ti))\n",
    "    return a\n"
   ]
  },
  {
   "cell_type": "code",
   "execution_count": 39,
   "metadata": {},
   "outputs": [
    {
     "name": "stdout",
     "output_type": "stream",
     "text": [
      "alpha =  1.7228309558266145e-05 1/degree C\n"
     ]
    }
   ],
   "source": [
    "deltal = .00125\n",
    "length = 1.05\n",
    "tfinal = 92.5\n",
    "tin = 23.4\n",
    "\n",
    "realalpha = alpha(deltal, length, tfinal, tin)\n",
    "print (\"alpha = \", realalpha, \"1/degree C\")\n"
   ]
  },
  {
   "cell_type": "code",
   "execution_count": 40,
   "metadata": {},
   "outputs": [],
   "source": [
    "def rule3 (tf3,ti3):\n",
    "    r3= np.sqrt((tf3**2+ti3**2))\n",
    "    return r3\n",
    "\n"
   ]
  },
  {
   "cell_type": "code",
   "execution_count": 41,
   "metadata": {},
   "outputs": [
    {
     "name": "stdout",
     "output_type": "stream",
     "text": [
      "Rule 3 Uncertainty in Delta T =  0.31622776601683794 degree C\n"
     ]
    }
   ],
   "source": [
    "tfinal = .1\n",
    "tin = .3\n",
    "\n",
    "rule3uncert = rule3(tfinal, tin)\n",
    "print (\"Rule 3 Uncertainty in Delta T = \", rule3uncert, \"degree C\")"
   ]
  },
  {
   "cell_type": "markdown",
   "metadata": {},
   "source": [
    "Rule 4 = sqrt( (δΔL/ΔL)**2 + (δL/L)**2 + (δΔT/ΔT)**2)"
   ]
  },
  {
   "cell_type": "code",
   "execution_count": 42,
   "metadata": {},
   "outputs": [],
   "source": [
    "def rule4 (a,udl,dl,ul,l,udt,dt):\n",
    "    r4= a*np.sqrt ((udl/dl)**2+(ul/l)**2+(udt/dt)**2)\n",
    "    return r4\n",
    "    "
   ]
  },
  {
   "cell_type": "code",
   "execution_count": 43,
   "metadata": {},
   "outputs": [
    {
     "name": "stdout",
     "output_type": "stream",
     "text": [
      "Rule 4 Uncertainty in Alpha =  1.5960158772010743e-07 1/degree C\n"
     ]
    }
   ],
   "source": [
    "alpha = 1.7228309558266145e-05\n",
    "udeltal = .00001\n",
    "deltal = .00125\n",
    "ul = .001\n",
    "l = 1.05\n",
    "udeltat = .316\n",
    "deltat = 69.1\n",
    "\n",
    "rule4uncert = rule4 (alpha, udeltal, deltal, ul, l, udeltat, deltat)\n",
    "print (\"Rule 4 Uncertainty in Alpha = \", rule4uncert,\"1/degree C\")"
   ]
  },
  {
   "cell_type": "code",
   "execution_count": null,
   "metadata": {},
   "outputs": [],
   "source": []
  }
 ],
 "metadata": {
  "kernelspec": {
   "display_name": "Python 3",
   "language": "python",
   "name": "python3"
  },
  "language_info": {
   "codemirror_mode": {
    "name": "ipython",
    "version": 3
   },
   "file_extension": ".py",
   "mimetype": "text/x-python",
   "name": "python",
   "nbconvert_exporter": "python",
   "pygments_lexer": "ipython3",
   "version": "3.7.4"
  }
 },
 "nbformat": 4,
 "nbformat_minor": 2
}
